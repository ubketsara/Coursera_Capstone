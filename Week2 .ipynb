{
    "cells": [
        {
            "metadata": {
                "collapsed": true
            },
            "cell_type": "markdown",
            "source": "# Capstone Project - Car accident severity (Week 1)\n"
        },
        {
            "metadata": {},
            "cell_type": "markdown",
            "source": "**Introduction**\n\n\nIncidences can be caused by many factors such as environmental conditions which are controllable and uncontrollable. \n\nThe levels of severity are also varied among accidents. The example data of an incident in Seattle shows the the collision can be some prpertry dammage to injury.\n\nIn order to prevent and manage those incidences, the good understanding in causes and influence of those parameters is required. \n\nThe tools and the knowledge of data secience can be used to identify, classify and predict such of accident for furture reduction and prevention.\n\n***"
        },
        {
            "metadata": {},
            "cell_type": "code",
            "source": "",
            "execution_count": null,
            "outputs": []
        }
    ],
    "metadata": {
        "kernelspec": {
            "name": "python3",
            "display_name": "Python 3.6",
            "language": "python"
        },
        "language_info": {
            "name": "python",
            "version": "3.6.9",
            "mimetype": "text/x-python",
            "codemirror_mode": {
                "name": "ipython",
                "version": 3
            },
            "pygments_lexer": "ipython3",
            "nbconvert_exporter": "python",
            "file_extension": ".py"
        }
    },
    "nbformat": 4,
    "nbformat_minor": 1
}