{
    "cells": [
        {
            "metadata": {},
            "cell_type": "markdown",
            "source": "# Capstone Project - Car accident severity (Week 1)\n\n**Introduction**\n\nIncidences can be caused by many factors such as environmental conditions which are controllable and uncontrollable. \nThe levels of severity are also varied among accidents. The example data of an incident in Seattle shows the the collision can be some prpertry dammage to injury.  \nIn order to prevent and manage those incidences, the good understanding in causes and influence of those parameters is required.\nThe tools and the knowledge of data secience can be used to identify, classify and predict such of accident for furture reduction and prevention.\n\n***"
        },
        {
            "metadata": {},
            "cell_type": "markdown",
            "source": "**DATA**\n\nThe example dataset is a collision records of Seattle which contains informtaion from 2006 untill 2020 with 194,673 records of accidents."
        },
        {
            "metadata": {},
            "cell_type": "code",
            "source": "import pandas as pd\nimport matplotlib.pyplot as plt\nimport numpy as np\nimport seaborn as sns",
            "execution_count": 44,
            "outputs": []
        },
        {
            "metadata": {},
            "cell_type": "code",
            "source": "df = pd.read_csv('https://s3.us.cloud-object-storage.appdomain.cloud/cf-courses-data/CognitiveClass/DP0701EN/version-2/Data-Collisions.csv')",
            "execution_count": 45,
            "outputs": []
        },
        {
            "metadata": {},
            "cell_type": "code",
            "source": "#df.dtypes",
            "execution_count": 125,
            "outputs": []
        },
        {
            "metadata": {},
            "cell_type": "code",
            "source": "#df1 = df['SEVERITYCODE.1'].value_counts().to_frame()\n#df_p = round((df1/194673)*100,2)",
            "execution_count": 127,
            "outputs": []
        },
        {
            "metadata": {},
            "cell_type": "code",
            "source": "#sf1 = pd.DataFrame(data=df_p.values, index = df_p.index, columns=['Case Number'])",
            "execution_count": 128,
            "outputs": []
        },
        {
            "metadata": {},
            "cell_type": "code",
            "source": "sf1",
            "execution_count": 64,
            "outputs": [
                {
                    "output_type": "execute_result",
                    "execution_count": 64,
                    "data": {
                        "text/plain": "   Case Number\n1        70.11\n2        29.89",
                        "text/html": "<div>\n<style scoped>\n    .dataframe tbody tr th:only-of-type {\n        vertical-align: middle;\n    }\n\n    .dataframe tbody tr th {\n        vertical-align: top;\n    }\n\n    .dataframe thead th {\n        text-align: right;\n    }\n</style>\n<table border=\"1\" class=\"dataframe\">\n  <thead>\n    <tr style=\"text-align: right;\">\n      <th></th>\n      <th>Case Number</th>\n    </tr>\n  </thead>\n  <tbody>\n    <tr>\n      <th>1</th>\n      <td>70.11</td>\n    </tr>\n    <tr>\n      <th>2</th>\n      <td>29.89</td>\n    </tr>\n  </tbody>\n</table>\n</div>"
                    },
                    "metadata": {}
                }
            ]
        },
        {
            "metadata": {},
            "cell_type": "code",
            "source": "#df['COLLISIONTYPE'].value_counts()",
            "execution_count": 129,
            "outputs": []
        },
        {
            "metadata": {},
            "cell_type": "code",
            "source": "df['INCDATE'] = pd.to_datetime(df['INCDATE'])",
            "execution_count": 56,
            "outputs": []
        },
        {
            "metadata": {},
            "cell_type": "markdown",
            "source": "The severity levelS of accident are defined by the code 1 indicates the accident with only property damage and code 2 involves injury. \n\nThe number of records for code 1 are 136,485 cases (roughly 70%) and for code 2 are 58,188 cases (30%).\n\n*Figure1 : Bar chart shows Number of cases for Severity Code 1 and 2*"
        },
        {
            "metadata": {},
            "cell_type": "code",
            "source": "X = ['code 1', 'code 2']\ny = sf1['Case Number']\nplt.bar(X,y)\nplt.figsize=(20, 8)\nplt.title('Case number of different Severity Code',fontsize = 16) # add title to the\n",
            "execution_count": 68,
            "outputs": [
                {
                    "output_type": "execute_result",
                    "execution_count": 68,
                    "data": {
                        "text/plain": "Text(0.5, 1.0, 'Case number of different Severity Code')"
                    },
                    "metadata": {}
                },
                {
                    "output_type": "display_data",
                    "data": {
                        "text/plain": "<Figure size 432x288 with 1 Axes>",
                        "image/png": "[encoded data removed]"
                    },
                    "metadata": {
                        "needs_background": "light"
                    }
                }
            ]
        },
        {
            "metadata": {},
            "cell_type": "markdown",
            "source": "The highest number of accidents considered collision type is Parked Car for severity code 1 of 14671 cases and Rear Ended for severity code 2 for 45325 cases. \n\n*Table i: Table shows Number of cases for Severity Code 1 and 2 depending on the types of collision*"
        },
        {
            "metadata": {},
            "cell_type": "code",
            "source": "n = df.groupby('SEVERITYDESC')['COLLISIONTYPE'].value_counts().to_frame()\npd.DataFrame(data=n.values, index = n.index, columns=['Cases'])",
            "execution_count": 115,
            "outputs": [
                {
                    "output_type": "execute_result",
                    "execution_count": 115,
                    "data": {
                        "text/plain": "                                              Cases\nSEVERITYDESC                   COLLISIONTYPE       \nInjury Collision               Rear Ended     14671\n                               Angles         13624\n                               Other           6112\n                               Pedestrian      5936\n                               Left Turn       5411\n                               Cycles          4744\n                               Parked Car      2662\n                               Sideswipe       2506\n                               Head On          872\n                               Right Turn       609\nProperty Damage Only Collision Parked Car     45325\n                               Angles         21050\n                               Rear Ended     19419\n                               Other          17591\n                               Sideswipe      16103\n                               Left Turn       8292\n                               Right Turn      2347\n                               Head On         1152\n                               Pedestrian       672\n                               Cycles           671",
                        "text/html": "<div>\n<style scoped>\n    .dataframe tbody tr th:only-of-type {\n        vertical-align: middle;\n    }\n\n    .dataframe tbody tr th {\n        vertical-align: top;\n    }\n\n    .dataframe thead th {\n        text-align: right;\n    }\n</style>\n<table border=\"1\" class=\"dataframe\">\n  <thead>\n    <tr style=\"text-align: right;\">\n      <th></th>\n      <th></th>\n      <th>Cases</th>\n    </tr>\n    <tr>\n      <th>SEVERITYDESC</th>\n      <th>COLLISIONTYPE</th>\n      <th></th>\n    </tr>\n  </thead>\n  <tbody>\n    <tr>\n      <th rowspan=\"10\" valign=\"top\">Injury Collision</th>\n      <th>Rear Ended</th>\n      <td>14671</td>\n    </tr>\n    <tr>\n      <th>Angles</th>\n      <td>13624</td>\n    </tr>\n    <tr>\n      <th>Other</th>\n      <td>6112</td>\n    </tr>\n    <tr>\n      <th>Pedestrian</th>\n      <td>5936</td>\n    </tr>\n    <tr>\n      <th>Left Turn</th>\n      <td>5411</td>\n    </tr>\n    <tr>\n      <th>Cycles</th>\n      <td>4744</td>\n    </tr>\n    <tr>\n      <th>Parked Car</th>\n      <td>2662</td>\n    </tr>\n    <tr>\n      <th>Sideswipe</th>\n      <td>2506</td>\n    </tr>\n    <tr>\n      <th>Head On</th>\n      <td>872</td>\n    </tr>\n    <tr>\n      <th>Right Turn</th>\n      <td>609</td>\n    </tr>\n    <tr>\n      <th rowspan=\"10\" valign=\"top\">Property Damage Only Collision</th>\n      <th>Parked Car</th>\n      <td>45325</td>\n    </tr>\n    <tr>\n      <th>Angles</th>\n      <td>21050</td>\n    </tr>\n    <tr>\n      <th>Rear Ended</th>\n      <td>19419</td>\n    </tr>\n    <tr>\n      <th>Other</th>\n      <td>17591</td>\n    </tr>\n    <tr>\n      <th>Sideswipe</th>\n      <td>16103</td>\n    </tr>\n    <tr>\n      <th>Left Turn</th>\n      <td>8292</td>\n    </tr>\n    <tr>\n      <th>Right Turn</th>\n      <td>2347</td>\n    </tr>\n    <tr>\n      <th>Head On</th>\n      <td>1152</td>\n    </tr>\n    <tr>\n      <th>Pedestrian</th>\n      <td>672</td>\n    </tr>\n    <tr>\n      <th>Cycles</th>\n      <td>671</td>\n    </tr>\n  </tbody>\n</table>\n</div>"
                    },
                    "metadata": {}
                }
            ]
        },
        {
            "metadata": {},
            "cell_type": "markdown",
            "source": "Considering weather, most of accidents occur on the clear weather environment for both severity code. \n\n*Table ii: Table shows Number of cases for Severity Code 1 and 2 depending on weather*"
        },
        {
            "metadata": {},
            "cell_type": "code",
            "source": "m = df.groupby('SEVERITYDESC')['WEATHER'].value_counts().to_frame()\npd.DataFrame(data=m.values, index = m.index, columns=['Cases'])",
            "execution_count": 118,
            "outputs": [
                {
                    "output_type": "execute_result",
                    "execution_count": 118,
                    "data": {
                        "text/plain": "                                                         Cases\nSEVERITYDESC                   WEATHER                        \nInjury Collision               Clear                     35840\n                               Raining                   11176\n                               Overcast                   8745\n                               Unknown                     816\n                               Fog/Smog/Smoke              187\n                               Snowing                     171\n                               Other                       116\n                               Sleet/Hail/Freezing Rain     28\n                               Blowing Sand/Dirt            15\n                               Severe Crosswind              7\n                               Partly Cloudy                 3\nProperty Damage Only Collision Clear                     75295\n                               Raining                   21969\n                               Overcast                  18969\n                               Unknown                   14275\n                               Snowing                     736\n                               Other                       716\n                               Fog/Smog/Smoke              382\n                               Sleet/Hail/Freezing Rain     85\n                               Blowing Sand/Dirt            41\n                               Severe Crosswind             18\n                               Partly Cloudy                 2",
                        "text/html": "<div>\n<style scoped>\n    .dataframe tbody tr th:only-of-type {\n        vertical-align: middle;\n    }\n\n    .dataframe tbody tr th {\n        vertical-align: top;\n    }\n\n    .dataframe thead th {\n        text-align: right;\n    }\n</style>\n<table border=\"1\" class=\"dataframe\">\n  <thead>\n    <tr style=\"text-align: right;\">\n      <th></th>\n      <th></th>\n      <th>Cases</th>\n    </tr>\n    <tr>\n      <th>SEVERITYDESC</th>\n      <th>WEATHER</th>\n      <th></th>\n    </tr>\n  </thead>\n  <tbody>\n    <tr>\n      <th rowspan=\"11\" valign=\"top\">Injury Collision</th>\n      <th>Clear</th>\n      <td>35840</td>\n    </tr>\n    <tr>\n      <th>Raining</th>\n      <td>11176</td>\n    </tr>\n    <tr>\n      <th>Overcast</th>\n      <td>8745</td>\n    </tr>\n    <tr>\n      <th>Unknown</th>\n      <td>816</td>\n    </tr>\n    <tr>\n      <th>Fog/Smog/Smoke</th>\n      <td>187</td>\n    </tr>\n    <tr>\n      <th>Snowing</th>\n      <td>171</td>\n    </tr>\n    <tr>\n      <th>Other</th>\n      <td>116</td>\n    </tr>\n    <tr>\n      <th>Sleet/Hail/Freezing Rain</th>\n      <td>28</td>\n    </tr>\n    <tr>\n      <th>Blowing Sand/Dirt</th>\n      <td>15</td>\n    </tr>\n    <tr>\n      <th>Severe Crosswind</th>\n      <td>7</td>\n    </tr>\n    <tr>\n      <th>Partly Cloudy</th>\n      <td>3</td>\n    </tr>\n    <tr>\n      <th rowspan=\"11\" valign=\"top\">Property Damage Only Collision</th>\n      <th>Clear</th>\n      <td>75295</td>\n    </tr>\n    <tr>\n      <th>Raining</th>\n      <td>21969</td>\n    </tr>\n    <tr>\n      <th>Overcast</th>\n      <td>18969</td>\n    </tr>\n    <tr>\n      <th>Unknown</th>\n      <td>14275</td>\n    </tr>\n    <tr>\n      <th>Snowing</th>\n      <td>736</td>\n    </tr>\n    <tr>\n      <th>Other</th>\n      <td>716</td>\n    </tr>\n    <tr>\n      <th>Fog/Smog/Smoke</th>\n      <td>382</td>\n    </tr>\n    <tr>\n      <th>Sleet/Hail/Freezing Rain</th>\n      <td>85</td>\n    </tr>\n    <tr>\n      <th>Blowing Sand/Dirt</th>\n      <td>41</td>\n    </tr>\n    <tr>\n      <th>Severe Crosswind</th>\n      <td>18</td>\n    </tr>\n    <tr>\n      <th>Partly Cloudy</th>\n      <td>2</td>\n    </tr>\n  </tbody>\n</table>\n</div>"
                    },
                    "metadata": {}
                }
            ]
        },
        {
            "metadata": {},
            "cell_type": "markdown",
            "source": "Considering codition of the road, most of accidents occur on dry condition for both severity code. \n\n*Table iii: Table shows Number of cases for Severity Code 1 and 2 depending on road condition*"
        },
        {
            "metadata": {},
            "cell_type": "code",
            "source": "o = df.groupby('SEVERITYDESC')['ROADCOND'].value_counts().to_frame()\npd.DataFrame(data=o.values, index = o.index, columns=['Cases'])",
            "execution_count": 120,
            "outputs": [
                {
                    "output_type": "execute_result",
                    "execution_count": 120,
                    "data": {
                        "text/plain": "                                               Cases\nSEVERITYDESC                   ROADCOND             \nInjury Collision               Dry             40064\n                               Wet             15755\n                               Unknown           749\n                               Ice               273\n                               Snow/Slush        167\n                               Other              43\n                               Standing Water     30\n                               Oil                24\n                               Sand/Mud/Dirt      23\nProperty Damage Only Collision Dry             84446\n                               Wet             31719\n                               Unknown         14329\n                               Ice               936\n                               Snow/Slush        837\n                               Other              89\n                               Standing Water     85\n                               Sand/Mud/Dirt      52\n                               Oil                40",
                        "text/html": "<div>\n<style scoped>\n    .dataframe tbody tr th:only-of-type {\n        vertical-align: middle;\n    }\n\n    .dataframe tbody tr th {\n        vertical-align: top;\n    }\n\n    .dataframe thead th {\n        text-align: right;\n    }\n</style>\n<table border=\"1\" class=\"dataframe\">\n  <thead>\n    <tr style=\"text-align: right;\">\n      <th></th>\n      <th></th>\n      <th>Cases</th>\n    </tr>\n    <tr>\n      <th>SEVERITYDESC</th>\n      <th>ROADCOND</th>\n      <th></th>\n    </tr>\n  </thead>\n  <tbody>\n    <tr>\n      <th rowspan=\"9\" valign=\"top\">Injury Collision</th>\n      <th>Dry</th>\n      <td>40064</td>\n    </tr>\n    <tr>\n      <th>Wet</th>\n      <td>15755</td>\n    </tr>\n    <tr>\n      <th>Unknown</th>\n      <td>749</td>\n    </tr>\n    <tr>\n      <th>Ice</th>\n      <td>273</td>\n    </tr>\n    <tr>\n      <th>Snow/Slush</th>\n      <td>167</td>\n    </tr>\n    <tr>\n      <th>Other</th>\n      <td>43</td>\n    </tr>\n    <tr>\n      <th>Standing Water</th>\n      <td>30</td>\n    </tr>\n    <tr>\n      <th>Oil</th>\n      <td>24</td>\n    </tr>\n    <tr>\n      <th>Sand/Mud/Dirt</th>\n      <td>23</td>\n    </tr>\n    <tr>\n      <th rowspan=\"9\" valign=\"top\">Property Damage Only Collision</th>\n      <th>Dry</th>\n      <td>84446</td>\n    </tr>\n    <tr>\n      <th>Wet</th>\n      <td>31719</td>\n    </tr>\n    <tr>\n      <th>Unknown</th>\n      <td>14329</td>\n    </tr>\n    <tr>\n      <th>Ice</th>\n      <td>936</td>\n    </tr>\n    <tr>\n      <th>Snow/Slush</th>\n      <td>837</td>\n    </tr>\n    <tr>\n      <th>Other</th>\n      <td>89</td>\n    </tr>\n    <tr>\n      <th>Standing Water</th>\n      <td>85</td>\n    </tr>\n    <tr>\n      <th>Sand/Mud/Dirt</th>\n      <td>52</td>\n    </tr>\n    <tr>\n      <th>Oil</th>\n      <td>40</td>\n    </tr>\n  </tbody>\n</table>\n</div>"
                    },
                    "metadata": {}
                }
            ]
        },
        {
            "metadata": {},
            "cell_type": "markdown",
            "source": "There are 9,333 accidents involved speeding which around 3,500 cases are injury collision.\n\n*Table iv: Table shows Number of cases for Severity Code 1 and 2 depending on speeding*"
        },
        {
            "metadata": {},
            "cell_type": "code",
            "source": "#df['SPEEDING'].value_counts()",
            "execution_count": 130,
            "outputs": []
        },
        {
            "metadata": {},
            "cell_type": "code",
            "source": "sp = df.groupby('SEVERITYDESC')['SPEEDING'].value_counts().to_frame()\npd.DataFrame(data=sp.values, index = sp.index, columns=['Cases'])",
            "execution_count": 121,
            "outputs": [
                {
                    "output_type": "execute_result",
                    "execution_count": 121,
                    "data": {
                        "text/plain": "                                         Cases\nSEVERITYDESC                   SPEEDING       \nInjury Collision               Y          3531\nProperty Damage Only Collision Y          5802",
                        "text/html": "<div>\n<style scoped>\n    .dataframe tbody tr th:only-of-type {\n        vertical-align: middle;\n    }\n\n    .dataframe tbody tr th {\n        vertical-align: top;\n    }\n\n    .dataframe thead th {\n        text-align: right;\n    }\n</style>\n<table border=\"1\" class=\"dataframe\">\n  <thead>\n    <tr style=\"text-align: right;\">\n      <th></th>\n      <th></th>\n      <th>Cases</th>\n    </tr>\n    <tr>\n      <th>SEVERITYDESC</th>\n      <th>SPEEDING</th>\n      <th></th>\n    </tr>\n  </thead>\n  <tbody>\n    <tr>\n      <th>Injury Collision</th>\n      <th>Y</th>\n      <td>3531</td>\n    </tr>\n    <tr>\n      <th>Property Damage Only Collision</th>\n      <th>Y</th>\n      <td>5802</td>\n    </tr>\n  </tbody>\n</table>\n</div>"
                    },
                    "metadata": {}
                }
            ]
        },
        {
            "metadata": {},
            "cell_type": "markdown",
            "source": "The target predicted variable of the project will be 'SEVERITY CODE' because it is used indicate the severity of an accident. \n\nThe Attributes that will be used to weigh the severity of an accident are 'Collision types' 'Weather','Road condition' and 'Speeding'.\n\nThe current data contains many information that won't be used in the analysis. It is imporatant to primarily pre-process the data as following\n\n- Extract Severitycode, collision types, weather, road condition and speeding out from the dataset\n\n- Convert Categorical features to numerical values\n\n- Select featuers of interest from each attributes \n\n- Append all data into the feature Data Frame\n\n"
        },
        {
            "metadata": {},
            "cell_type": "code",
            "source": "",
            "execution_count": null,
            "outputs": []
        }
    ],
    "metadata": {
        "kernelspec": {
            "name": "python3",
            "display_name": "Python 3.6",
            "language": "python"
        },
        "language_info": {
            "name": "python",
            "version": "3.6.9",
            "mimetype": "text/x-python",
            "codemirror_mode": {
                "name": "ipython",
                "version": 3
            },
            "pygments_lexer": "ipython3",
            "nbconvert_exporter": "python",
            "file_extension": ".py"
        }
    },
    "nbformat": 4,
    "nbformat_minor": 1
}